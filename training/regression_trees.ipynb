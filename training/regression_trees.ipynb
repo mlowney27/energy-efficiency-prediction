{
 "cells": [
  {
   "cell_type": "code",
   "execution_count": 51,
   "metadata": {},
   "outputs": [],
   "source": [
    "import numpy as np\n",
    "import pickle\n",
    "import pandas as pd\n",
    "from IPython.display import display\n",
    "from sklearn.preprocessing import StandardScaler\n",
    "from sklearn.model_selection import train_test_split, cross_val_score\n",
    "from sklearn.linear_model import ElasticNet, SGDRegressor\n",
    "from sklearn.pipeline import make_pipeline\n",
    "from sklearn.metrics import mean_squared_error\n",
    "from sklearn.model_selection import GridSearchCV\n",
    "from statsmodels.stats.outliers_influence import variance_inflation_factor\n",
    "from load_data import load_and_split_data\n",
    "from sklearn.tree import DecisionTreeRegressor, ExtraTreeRegressor\n",
    "from sklearn.ensemble import RandomForestRegressor"
   ]
  },
  {
   "cell_type": "code",
   "execution_count": 2,
   "metadata": {},
   "outputs": [],
   "source": [
    "data_slices = load_and_split_data(\"ENB2012_data.xlsx\")\n",
    "X_train = data_slices[0]\n",
    "X_test = data_slices[1]\n",
    "Y1_train = data_slices[2]\n",
    "Y1_test = data_slices[3]\n",
    "Y2_train = data_slices[4]\n",
    "Y2_test = data_slices[5]\n",
    "\n",
    "Y_train = pd.concat([Y1_train, Y2_train], axis=1) \n",
    "Y_test = pd.concat([Y1_test, Y2_test], axis=1)"
   ]
  },
  {
   "cell_type": "markdown",
   "metadata": {},
   "source": [
    "#### Multitarget regression trees"
   ]
  },
  {
   "cell_type": "code",
   "execution_count": 58,
   "metadata": {},
   "outputs": [
    {
     "name": "stdout",
     "output_type": "stream",
     "text": [
      "-2.147313952599276\n"
     ]
    },
    {
     "data": {
      "text/plain": [
       "{'decisiontreeregressor__max_depth': 7,\n",
       " 'decisiontreeregressor__min_samples_leaf': 5,\n",
       " 'decisiontreeregressor__min_samples_split': 6}"
      ]
     },
     "execution_count": 58,
     "metadata": {},
     "output_type": "execute_result"
    }
   ],
   "source": [
    "kfolds = 5\n",
    "scaler = StandardScaler()\n",
    "scoring = 'neg_mean_squared_error'\n",
    "model_name = \"DecisionTreeRegressor\".lower()\n",
    "# data is already centered, do not need intercept term\n",
    "pipeline = make_pipeline(StandardScaler(), DecisionTreeRegressor())\n",
    "\n",
    "param_grid={\n",
    "            model_name+'__max_depth': np.arange(2, 12, 1),\n",
    "            model_name+'__min_samples_split': np.arange(2, 12, 1),\n",
    "            model_name+'__min_samples_leaf': np.arange(1, 12, 1),\n",
    "            \n",
    "}\n",
    "grid_search = GridSearchCV(pipeline, param_grid, scoring=scoring, cv=kfolds)\n",
    "\n",
    "grid_search.fit(X_train, Y_train)\n",
    "print(grid_search.best_score_)\n",
    "grid_search.best_params_\n"
   ]
  },
  {
   "cell_type": "code",
   "execution_count": 59,
   "metadata": {},
   "outputs": [
    {
     "name": "stdout",
     "output_type": "stream",
     "text": [
      "1.4754754957735168\n",
      "1.7452531402087217\n"
     ]
    }
   ],
   "source": [
    "model = grid_search.best_estimator_\n",
    "\n",
    "decisiontree_train_mse = mean_squared_error(model.predict(X_train), Y_train)\n",
    "decisiontree_test_mse = mean_squared_error(model.predict(X_test), Y_test)\n",
    "print(decisiontree_train_mse)\n",
    "print(decisiontree_test_mse)"
   ]
  },
  {
   "cell_type": "markdown",
   "metadata": {},
   "source": [
    "#### ExtraTreeRegessor"
   ]
  },
  {
   "cell_type": "code",
   "execution_count": 49,
   "metadata": {},
   "outputs": [
    {
     "name": "stdout",
     "output_type": "stream",
     "text": [
      "-2.0379360109254794\n"
     ]
    },
    {
     "data": {
      "text/plain": [
       "{'extratreeregressor__max_depth': 7,\n",
       " 'extratreeregressor__min_samples_leaf': 2,\n",
       " 'extratreeregressor__min_samples_split': 7}"
      ]
     },
     "execution_count": 49,
     "metadata": {},
     "output_type": "execute_result"
    }
   ],
   "source": [
    "kfolds = 5\n",
    "scaler = StandardScaler()\n",
    "scoring = 'neg_mean_squared_error'\n",
    "model_name = \"ExtraTreeRegressor\".lower()\n",
    "# data is already centered, do not need intercept term\n",
    "pipeline = make_pipeline(StandardScaler(), ExtraTreeRegressor())\n",
    "\n",
    "param_grid={\n",
    "            model_name+'__max_depth': np.arange(2, 12, 1),\n",
    "            model_name+'__min_samples_split': np.arange(2, 12, 1),\n",
    "            model_name+'__min_samples_leaf': np.arange(1, 12, 1),\n",
    "            \n",
    "}\n",
    "grid_search = GridSearchCV(pipeline, param_grid, scoring=scoring, cv=kfolds)\n",
    "\n",
    "grid_search.fit(X_train, Y_train)\n",
    "print(grid_search.best_score_)\n",
    "grid_search.best_params_"
   ]
  },
  {
   "cell_type": "code",
   "execution_count": 50,
   "metadata": {},
   "outputs": [
    {
     "name": "stdout",
     "output_type": "stream",
     "text": [
      "1.6278476057645384\n",
      "1.8239086909902256\n"
     ]
    }
   ],
   "source": [
    "extratree_model = grid_search.best_estimator_\n",
    "\n",
    "extratree_train_mse = mean_squared_error(extratree_model.predict(X_train), Y_train)\n",
    "extratree_test_mse = mean_squared_error(extratree_model.predict(X_test), Y_test)\n",
    "print(extratree_train_mse)\n",
    "print(extratree_test_mse)"
   ]
  },
  {
   "cell_type": "markdown",
   "metadata": {},
   "source": [
    "##### RandomForest"
   ]
  },
  {
   "cell_type": "code",
   "execution_count": 52,
   "metadata": {},
   "outputs": [
    {
     "name": "stdout",
     "output_type": "stream",
     "text": [
      "-1.969110008910129\n"
     ]
    },
    {
     "data": {
      "text/plain": [
       "{'randomforestregressor__max_depth': 6,\n",
       " 'randomforestregressor__min_samples_split': 3}"
      ]
     },
     "execution_count": 52,
     "metadata": {},
     "output_type": "execute_result"
    }
   ],
   "source": [
    "kfolds = 5\n",
    "scaler = StandardScaler()\n",
    "scoring = 'neg_mean_squared_error'\n",
    "model_name = \"RandomForestRegressor\".lower()\n",
    "# data is already centered, do not need intercept term\n",
    "pipeline = make_pipeline(StandardScaler(), RandomForestRegressor())\n",
    "\n",
    "param_grid={\n",
    "            model_name+'__max_depth': np.arange(2, 8, 1),\n",
    "            model_name+'__min_samples_split': np.arange(2, 8, 1),\n",
    "#             model_name+'__min_samples_leaf': np.arange(1, 8, 1),\n",
    "            \n",
    "}\n",
    "grid_search = GridSearchCV(pipeline, param_grid, scoring=scoring, cv=kfolds)\n",
    "\n",
    "grid_search.fit(X_train, Y_train)\n",
    "print(grid_search.best_score_)\n",
    "grid_search.best_params_"
   ]
  },
  {
   "cell_type": "code",
   "execution_count": 41,
   "metadata": {},
   "outputs": [
    {
     "name": "stdout",
     "output_type": "stream",
     "text": [
      "1.3116021685324841\n",
      "1.5092382933334154\n"
     ]
    }
   ],
   "source": [
    "randomforest_model = grid_search.best_estimator_\n",
    "\n",
    "randomforest_train_mse = mean_squared_error(randomforest_model.predict(X_train), Y_train)\n",
    "randomforest_test_mse = mean_squared_error(randomforest_model.predict(X_test), Y_test)\n",
    "print(randomforest_train_mse)\n",
    "print(randomforest_test_mse)"
   ]
  },
  {
   "cell_type": "code",
   "execution_count": 53,
   "metadata": {},
   "outputs": [],
   "source": [
    "# train random forest on all data to export to server\n",
    "\n",
    "final_pipeline = pipeline = make_pipeline(StandardScaler(), RandomForestRegressor(max_depth=6, min_samples_split=3))\n",
    "df = pd.read_excel(\"ENB2012_data.xlsx\")\n",
    "# shuffle data \n",
    "df = df.sample(frac=1)\n",
    "train_cols = list(df.columns)[:-2]\n",
    "test_cols = list(df.columns)[-2:]\n",
    "X = df[train_cols]\n",
    "Y = df[test_cols]\n",
    "\n",
    "final_pipeline.fit(X, Y)\n",
    "with open(\"randomforrest.p\", \"wb\") as f:\n",
    "    pickle.dump(final_pipeline, f)"
   ]
  },
  {
   "cell_type": "code",
   "execution_count": 57,
   "metadata": {},
   "outputs": [
    {
     "data": {
      "text/plain": [
       "array([[27.69249294, 29.16560986]])"
      ]
     },
     "execution_count": 57,
     "metadata": {},
     "output_type": "execute_result"
    }
   ],
   "source": [
    "final_pipeline.predict([[1,2,3,4,5,6,7,8]])"
   ]
  },
  {
   "cell_type": "code",
   "execution_count": null,
   "metadata": {},
   "outputs": [],
   "source": []
  }
 ],
 "metadata": {
  "kernelspec": {
   "display_name": "Python 3",
   "language": "python",
   "name": "python3"
  },
  "language_info": {
   "codemirror_mode": {
    "name": "ipython",
    "version": 3
   },
   "file_extension": ".py",
   "mimetype": "text/x-python",
   "name": "python",
   "nbconvert_exporter": "python",
   "pygments_lexer": "ipython3",
   "version": "3.8.3"
  }
 },
 "nbformat": 4,
 "nbformat_minor": 4
}
