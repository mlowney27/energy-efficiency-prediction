{
 "cells": [
  {
   "cell_type": "code",
   "execution_count": 37,
   "metadata": {},
   "outputs": [],
   "source": [
    "import numpy as np\n",
    "import pickle\n",
    "import pandas as pd\n",
    "from IPython.display import display\n",
    "from sklearn.preprocessing import StandardScaler\n",
    "from sklearn.model_selection import train_test_split, cross_val_score\n",
    "from sklearn.linear_model import ElasticNet, SGDRegressor, Ridge\n",
    "from sklearn.pipeline import make_pipeline\n",
    "from sklearn.metrics import mean_squared_error\n",
    "from sklearn.model_selection import GridSearchCV\n",
    "from statsmodels.stats.outliers_influence import variance_inflation_factor"
   ]
  },
  {
   "cell_type": "code",
   "execution_count": 3,
   "metadata": {},
   "outputs": [],
   "source": [
    "df = pd.read_excel(\"ENB2012_data.xlsx\")"
   ]
  },
  {
   "cell_type": "code",
   "execution_count": 215,
   "metadata": {},
   "outputs": [
    {
     "name": "stdout",
     "output_type": "stream",
     "text": [
      "Overwriting load_data.py\n"
     ]
    }
   ],
   "source": [
    "%%file load_data.py\n",
    "import pandas as pd\n",
    "from sklearn.model_selection import train_test_split\n",
    "def load_and_split_data(file_path, test_size=0.2, seed=22793):\n",
    "    df = pd.read_excel(file_path)\n",
    "    train_cols = list(df.columns)[:-2]\n",
    "    test_cols = list(df.columns)[-2:]\n",
    "    X = df[train_cols]\n",
    "    Y1 = df[test_cols[0]]\n",
    "    Y2 = df[test_cols[1]]\n",
    "    X_train, X_test, Y1_train, Y1_test, Y2_train, Y2_test = train_test_split(X, Y1, Y2, test_size=test_size, random_state=seed)\n",
    "    return X_train, X_test, Y1_train, Y1_test, Y2_train, Y2_test"
   ]
  },
  {
   "cell_type": "code",
   "execution_count": 15,
   "metadata": {},
   "outputs": [
    {
     "data": {
      "text/html": [
       "<div>\n",
       "<style scoped>\n",
       "    .dataframe tbody tr th:only-of-type {\n",
       "        vertical-align: middle;\n",
       "    }\n",
       "\n",
       "    .dataframe tbody tr th {\n",
       "        vertical-align: top;\n",
       "    }\n",
       "\n",
       "    .dataframe thead th {\n",
       "        text-align: right;\n",
       "    }\n",
       "</style>\n",
       "<table border=\"1\" class=\"dataframe\">\n",
       "  <thead>\n",
       "    <tr style=\"text-align: right;\">\n",
       "      <th></th>\n",
       "      <th>variables</th>\n",
       "      <th>VIF</th>\n",
       "    </tr>\n",
       "  </thead>\n",
       "  <tbody>\n",
       "    <tr>\n",
       "      <th>0</th>\n",
       "      <td>X4</td>\n",
       "      <td>5.245242</td>\n",
       "    </tr>\n",
       "    <tr>\n",
       "      <th>1</th>\n",
       "      <td>X5</td>\n",
       "      <td>4.544944</td>\n",
       "    </tr>\n",
       "    <tr>\n",
       "      <th>2</th>\n",
       "      <td>X7</td>\n",
       "      <td>4.284222</td>\n",
       "    </tr>\n",
       "    <tr>\n",
       "      <th>3</th>\n",
       "      <td>X8</td>\n",
       "      <td>4.485473</td>\n",
       "    </tr>\n",
       "  </tbody>\n",
       "</table>\n",
       "</div>"
      ],
      "text/plain": [
       "  variables       VIF\n",
       "0        X4  5.245242\n",
       "1        X5  4.544944\n",
       "2        X7  4.284222\n",
       "3        X8  4.485473"
      ]
     },
     "metadata": {},
     "output_type": "display_data"
    },
    {
     "data": {
      "text/html": [
       "<div>\n",
       "<style scoped>\n",
       "    .dataframe tbody tr th:only-of-type {\n",
       "        vertical-align: middle;\n",
       "    }\n",
       "\n",
       "    .dataframe tbody tr th {\n",
       "        vertical-align: top;\n",
       "    }\n",
       "\n",
       "    .dataframe thead th {\n",
       "        text-align: right;\n",
       "    }\n",
       "</style>\n",
       "<table border=\"1\" class=\"dataframe\">\n",
       "  <thead>\n",
       "    <tr style=\"text-align: right;\">\n",
       "      <th></th>\n",
       "      <th>X1</th>\n",
       "      <th>X2</th>\n",
       "      <th>X3</th>\n",
       "      <th>X4</th>\n",
       "      <th>X5</th>\n",
       "      <th>X6</th>\n",
       "      <th>X7</th>\n",
       "      <th>X8</th>\n",
       "    </tr>\n",
       "  </thead>\n",
       "  <tbody>\n",
       "    <tr>\n",
       "      <th>X1</th>\n",
       "      <td>1.000000e+00</td>\n",
       "      <td>-9.919015e-01</td>\n",
       "      <td>-2.037817e-01</td>\n",
       "      <td>-8.688234e-01</td>\n",
       "      <td>8.277473e-01</td>\n",
       "      <td>0.0</td>\n",
       "      <td>1.283986e-17</td>\n",
       "      <td>1.764620e-17</td>\n",
       "    </tr>\n",
       "    <tr>\n",
       "      <th>X2</th>\n",
       "      <td>-9.919015e-01</td>\n",
       "      <td>1.000000e+00</td>\n",
       "      <td>1.955016e-01</td>\n",
       "      <td>8.807195e-01</td>\n",
       "      <td>-8.581477e-01</td>\n",
       "      <td>0.0</td>\n",
       "      <td>1.318356e-16</td>\n",
       "      <td>-3.558613e-16</td>\n",
       "    </tr>\n",
       "    <tr>\n",
       "      <th>X3</th>\n",
       "      <td>-2.037817e-01</td>\n",
       "      <td>1.955016e-01</td>\n",
       "      <td>1.000000e+00</td>\n",
       "      <td>-2.923165e-01</td>\n",
       "      <td>2.809757e-01</td>\n",
       "      <td>0.0</td>\n",
       "      <td>-7.969726e-19</td>\n",
       "      <td>0.000000e+00</td>\n",
       "    </tr>\n",
       "    <tr>\n",
       "      <th>X4</th>\n",
       "      <td>-8.688234e-01</td>\n",
       "      <td>8.807195e-01</td>\n",
       "      <td>-2.923165e-01</td>\n",
       "      <td>1.000000e+00</td>\n",
       "      <td>-9.725122e-01</td>\n",
       "      <td>0.0</td>\n",
       "      <td>-1.381805e-16</td>\n",
       "      <td>-1.079129e-16</td>\n",
       "    </tr>\n",
       "    <tr>\n",
       "      <th>X5</th>\n",
       "      <td>8.277473e-01</td>\n",
       "      <td>-8.581477e-01</td>\n",
       "      <td>2.809757e-01</td>\n",
       "      <td>-9.725122e-01</td>\n",
       "      <td>1.000000e+00</td>\n",
       "      <td>0.0</td>\n",
       "      <td>1.861418e-18</td>\n",
       "      <td>0.000000e+00</td>\n",
       "    </tr>\n",
       "    <tr>\n",
       "      <th>X6</th>\n",
       "      <td>0.000000e+00</td>\n",
       "      <td>0.000000e+00</td>\n",
       "      <td>0.000000e+00</td>\n",
       "      <td>0.000000e+00</td>\n",
       "      <td>0.000000e+00</td>\n",
       "      <td>1.0</td>\n",
       "      <td>0.000000e+00</td>\n",
       "      <td>0.000000e+00</td>\n",
       "    </tr>\n",
       "    <tr>\n",
       "      <th>X7</th>\n",
       "      <td>1.283986e-17</td>\n",
       "      <td>1.318356e-16</td>\n",
       "      <td>-7.969726e-19</td>\n",
       "      <td>-1.381805e-16</td>\n",
       "      <td>1.861418e-18</td>\n",
       "      <td>0.0</td>\n",
       "      <td>1.000000e+00</td>\n",
       "      <td>2.129642e-01</td>\n",
       "    </tr>\n",
       "    <tr>\n",
       "      <th>X8</th>\n",
       "      <td>1.764620e-17</td>\n",
       "      <td>-3.558613e-16</td>\n",
       "      <td>0.000000e+00</td>\n",
       "      <td>-1.079129e-16</td>\n",
       "      <td>0.000000e+00</td>\n",
       "      <td>0.0</td>\n",
       "      <td>2.129642e-01</td>\n",
       "      <td>1.000000e+00</td>\n",
       "    </tr>\n",
       "  </tbody>\n",
       "</table>\n",
       "</div>"
      ],
      "text/plain": [
       "              X1            X2            X3            X4            X5   X6  \\\n",
       "X1  1.000000e+00 -9.919015e-01 -2.037817e-01 -8.688234e-01  8.277473e-01  0.0   \n",
       "X2 -9.919015e-01  1.000000e+00  1.955016e-01  8.807195e-01 -8.581477e-01  0.0   \n",
       "X3 -2.037817e-01  1.955016e-01  1.000000e+00 -2.923165e-01  2.809757e-01  0.0   \n",
       "X4 -8.688234e-01  8.807195e-01 -2.923165e-01  1.000000e+00 -9.725122e-01  0.0   \n",
       "X5  8.277473e-01 -8.581477e-01  2.809757e-01 -9.725122e-01  1.000000e+00  0.0   \n",
       "X6  0.000000e+00  0.000000e+00  0.000000e+00  0.000000e+00  0.000000e+00  1.0   \n",
       "X7  1.283986e-17  1.318356e-16 -7.969726e-19 -1.381805e-16  1.861418e-18  0.0   \n",
       "X8  1.764620e-17 -3.558613e-16  0.000000e+00 -1.079129e-16  0.000000e+00  0.0   \n",
       "\n",
       "              X7            X8  \n",
       "X1  1.283986e-17  1.764620e-17  \n",
       "X2  1.318356e-16 -3.558613e-16  \n",
       "X3 -7.969726e-19  0.000000e+00  \n",
       "X4 -1.381805e-16 -1.079129e-16  \n",
       "X5  1.861418e-18  0.000000e+00  \n",
       "X6  0.000000e+00  0.000000e+00  \n",
       "X7  1.000000e+00  2.129642e-01  \n",
       "X8  2.129642e-01  1.000000e+00  "
      ]
     },
     "execution_count": 15,
     "metadata": {},
     "output_type": "execute_result"
    }
   ],
   "source": [
    "df.describe()\n",
    "\n",
    "def calc_vif(X):\n",
    "\n",
    "    # Calculating VIF\n",
    "    vif = pd.DataFrame()\n",
    "    vif[\"variables\"] = X.columns\n",
    "    vif[\"VIF\"] = [variance_inflation_factor(X.values, i) for i in range(X.shape[1])]\n",
    "\n",
    "    return(vif)\n",
    "\n",
    "display(calc_vif(df.drop(['Y1', 'Y2', 'X2', 'X1', 'X3', 'X6'], axis=1)))\n",
    "\n",
    "df.drop(['Y1', 'Y2'], axis=1).corr()\n",
    "# np.linalg.svd(df.drop(['Y1', 'Y2'], axis=1))"
   ]
  },
  {
   "cell_type": "code",
   "execution_count": 12,
   "metadata": {
    "scrolled": true
   },
   "outputs": [
    {
     "data": {
      "text/html": [
       "<div>\n",
       "<style scoped>\n",
       "    .dataframe tbody tr th:only-of-type {\n",
       "        vertical-align: middle;\n",
       "    }\n",
       "\n",
       "    .dataframe tbody tr th {\n",
       "        vertical-align: top;\n",
       "    }\n",
       "\n",
       "    .dataframe thead th {\n",
       "        text-align: right;\n",
       "    }\n",
       "</style>\n",
       "<table border=\"1\" class=\"dataframe\">\n",
       "  <thead>\n",
       "    <tr style=\"text-align: right;\">\n",
       "      <th></th>\n",
       "      <th>X1</th>\n",
       "      <th>X2</th>\n",
       "      <th>X3</th>\n",
       "      <th>X4</th>\n",
       "      <th>X5</th>\n",
       "      <th>X6</th>\n",
       "      <th>X7</th>\n",
       "      <th>X8</th>\n",
       "      <th>Y1</th>\n",
       "      <th>Y2</th>\n",
       "    </tr>\n",
       "  </thead>\n",
       "  <tbody>\n",
       "  </tbody>\n",
       "</table>\n",
       "</div>"
      ],
      "text/plain": [
       "Empty DataFrame\n",
       "Columns: [X1, X2, X3, X4, X5, X6, X7, X8, Y1, Y2]\n",
       "Index: []"
      ]
     },
     "metadata": {},
     "output_type": "display_data"
    },
    {
     "data": {
      "text/html": [
       "<div>\n",
       "<style scoped>\n",
       "    .dataframe tbody tr th:only-of-type {\n",
       "        vertical-align: middle;\n",
       "    }\n",
       "\n",
       "    .dataframe tbody tr th {\n",
       "        vertical-align: top;\n",
       "    }\n",
       "\n",
       "    .dataframe thead th {\n",
       "        text-align: right;\n",
       "    }\n",
       "</style>\n",
       "<table border=\"1\" class=\"dataframe\">\n",
       "  <thead>\n",
       "    <tr style=\"text-align: right;\">\n",
       "      <th></th>\n",
       "      <th>X1</th>\n",
       "      <th>X2</th>\n",
       "      <th>X3</th>\n",
       "      <th>X4</th>\n",
       "      <th>X5</th>\n",
       "      <th>X6</th>\n",
       "      <th>X7</th>\n",
       "      <th>X8</th>\n",
       "      <th>Y1</th>\n",
       "      <th>Y2</th>\n",
       "    </tr>\n",
       "  </thead>\n",
       "  <tbody>\n",
       "  </tbody>\n",
       "</table>\n",
       "</div>"
      ],
      "text/plain": [
       "Empty DataFrame\n",
       "Columns: [X1, X2, X3, X4, X5, X6, X7, X8, Y1, Y2]\n",
       "Index: []"
      ]
     },
     "metadata": {},
     "output_type": "display_data"
    },
    {
     "data": {
      "text/html": [
       "<div>\n",
       "<style scoped>\n",
       "    .dataframe tbody tr th:only-of-type {\n",
       "        vertical-align: middle;\n",
       "    }\n",
       "\n",
       "    .dataframe tbody tr th {\n",
       "        vertical-align: top;\n",
       "    }\n",
       "\n",
       "    .dataframe thead th {\n",
       "        text-align: right;\n",
       "    }\n",
       "</style>\n",
       "<table border=\"1\" class=\"dataframe\">\n",
       "  <thead>\n",
       "    <tr style=\"text-align: right;\">\n",
       "      <th></th>\n",
       "      <th>X1</th>\n",
       "      <th>X2</th>\n",
       "      <th>X3</th>\n",
       "      <th>X4</th>\n",
       "      <th>X5</th>\n",
       "      <th>X6</th>\n",
       "      <th>X7</th>\n",
       "      <th>X8</th>\n",
       "      <th>Y1</th>\n",
       "      <th>Y2</th>\n",
       "    </tr>\n",
       "  </thead>\n",
       "  <tbody>\n",
       "  </tbody>\n",
       "</table>\n",
       "</div>"
      ],
      "text/plain": [
       "Empty DataFrame\n",
       "Columns: [X1, X2, X3, X4, X5, X6, X7, X8, Y1, Y2]\n",
       "Index: []"
      ]
     },
     "metadata": {},
     "output_type": "display_data"
    },
    {
     "data": {
      "text/html": [
       "<div>\n",
       "<style scoped>\n",
       "    .dataframe tbody tr th:only-of-type {\n",
       "        vertical-align: middle;\n",
       "    }\n",
       "\n",
       "    .dataframe tbody tr th {\n",
       "        vertical-align: top;\n",
       "    }\n",
       "\n",
       "    .dataframe thead th {\n",
       "        text-align: right;\n",
       "    }\n",
       "</style>\n",
       "<table border=\"1\" class=\"dataframe\">\n",
       "  <thead>\n",
       "    <tr style=\"text-align: right;\">\n",
       "      <th></th>\n",
       "      <th>X1</th>\n",
       "      <th>X2</th>\n",
       "      <th>X3</th>\n",
       "      <th>X4</th>\n",
       "      <th>X5</th>\n",
       "      <th>X6</th>\n",
       "      <th>X7</th>\n",
       "      <th>X8</th>\n",
       "      <th>Y1</th>\n",
       "      <th>Y2</th>\n",
       "    </tr>\n",
       "  </thead>\n",
       "  <tbody>\n",
       "  </tbody>\n",
       "</table>\n",
       "</div>"
      ],
      "text/plain": [
       "Empty DataFrame\n",
       "Columns: [X1, X2, X3, X4, X5, X6, X7, X8, Y1, Y2]\n",
       "Index: []"
      ]
     },
     "metadata": {},
     "output_type": "display_data"
    },
    {
     "data": {
      "text/html": [
       "<div>\n",
       "<style scoped>\n",
       "    .dataframe tbody tr th:only-of-type {\n",
       "        vertical-align: middle;\n",
       "    }\n",
       "\n",
       "    .dataframe tbody tr th {\n",
       "        vertical-align: top;\n",
       "    }\n",
       "\n",
       "    .dataframe thead th {\n",
       "        text-align: right;\n",
       "    }\n",
       "</style>\n",
       "<table border=\"1\" class=\"dataframe\">\n",
       "  <thead>\n",
       "    <tr style=\"text-align: right;\">\n",
       "      <th></th>\n",
       "      <th>X1</th>\n",
       "      <th>X2</th>\n",
       "      <th>X3</th>\n",
       "      <th>X4</th>\n",
       "      <th>X5</th>\n",
       "      <th>X6</th>\n",
       "      <th>X7</th>\n",
       "      <th>X8</th>\n",
       "      <th>Y1</th>\n",
       "      <th>Y2</th>\n",
       "    </tr>\n",
       "  </thead>\n",
       "  <tbody>\n",
       "  </tbody>\n",
       "</table>\n",
       "</div>"
      ],
      "text/plain": [
       "Empty DataFrame\n",
       "Columns: [X1, X2, X3, X4, X5, X6, X7, X8, Y1, Y2]\n",
       "Index: []"
      ]
     },
     "metadata": {},
     "output_type": "display_data"
    },
    {
     "data": {
      "text/html": [
       "<div>\n",
       "<style scoped>\n",
       "    .dataframe tbody tr th:only-of-type {\n",
       "        vertical-align: middle;\n",
       "    }\n",
       "\n",
       "    .dataframe tbody tr th {\n",
       "        vertical-align: top;\n",
       "    }\n",
       "\n",
       "    .dataframe thead th {\n",
       "        text-align: right;\n",
       "    }\n",
       "</style>\n",
       "<table border=\"1\" class=\"dataframe\">\n",
       "  <thead>\n",
       "    <tr style=\"text-align: right;\">\n",
       "      <th></th>\n",
       "      <th>X1</th>\n",
       "      <th>X2</th>\n",
       "      <th>X3</th>\n",
       "      <th>X4</th>\n",
       "      <th>X5</th>\n",
       "      <th>X6</th>\n",
       "      <th>X7</th>\n",
       "      <th>X8</th>\n",
       "      <th>Y1</th>\n",
       "      <th>Y2</th>\n",
       "    </tr>\n",
       "  </thead>\n",
       "  <tbody>\n",
       "  </tbody>\n",
       "</table>\n",
       "</div>"
      ],
      "text/plain": [
       "Empty DataFrame\n",
       "Columns: [X1, X2, X3, X4, X5, X6, X7, X8, Y1, Y2]\n",
       "Index: []"
      ]
     },
     "metadata": {},
     "output_type": "display_data"
    },
    {
     "data": {
      "text/html": [
       "<div>\n",
       "<style scoped>\n",
       "    .dataframe tbody tr th:only-of-type {\n",
       "        vertical-align: middle;\n",
       "    }\n",
       "\n",
       "    .dataframe tbody tr th {\n",
       "        vertical-align: top;\n",
       "    }\n",
       "\n",
       "    .dataframe thead th {\n",
       "        text-align: right;\n",
       "    }\n",
       "</style>\n",
       "<table border=\"1\" class=\"dataframe\">\n",
       "  <thead>\n",
       "    <tr style=\"text-align: right;\">\n",
       "      <th></th>\n",
       "      <th>X1</th>\n",
       "      <th>X2</th>\n",
       "      <th>X3</th>\n",
       "      <th>X4</th>\n",
       "      <th>X5</th>\n",
       "      <th>X6</th>\n",
       "      <th>X7</th>\n",
       "      <th>X8</th>\n",
       "      <th>Y1</th>\n",
       "      <th>Y2</th>\n",
       "    </tr>\n",
       "  </thead>\n",
       "  <tbody>\n",
       "  </tbody>\n",
       "</table>\n",
       "</div>"
      ],
      "text/plain": [
       "Empty DataFrame\n",
       "Columns: [X1, X2, X3, X4, X5, X6, X7, X8, Y1, Y2]\n",
       "Index: []"
      ]
     },
     "metadata": {},
     "output_type": "display_data"
    },
    {
     "data": {
      "text/html": [
       "<div>\n",
       "<style scoped>\n",
       "    .dataframe tbody tr th:only-of-type {\n",
       "        vertical-align: middle;\n",
       "    }\n",
       "\n",
       "    .dataframe tbody tr th {\n",
       "        vertical-align: top;\n",
       "    }\n",
       "\n",
       "    .dataframe thead th {\n",
       "        text-align: right;\n",
       "    }\n",
       "</style>\n",
       "<table border=\"1\" class=\"dataframe\">\n",
       "  <thead>\n",
       "    <tr style=\"text-align: right;\">\n",
       "      <th></th>\n",
       "      <th>X1</th>\n",
       "      <th>X2</th>\n",
       "      <th>X3</th>\n",
       "      <th>X4</th>\n",
       "      <th>X5</th>\n",
       "      <th>X6</th>\n",
       "      <th>X7</th>\n",
       "      <th>X8</th>\n",
       "      <th>Y1</th>\n",
       "      <th>Y2</th>\n",
       "    </tr>\n",
       "  </thead>\n",
       "  <tbody>\n",
       "  </tbody>\n",
       "</table>\n",
       "</div>"
      ],
      "text/plain": [
       "Empty DataFrame\n",
       "Columns: [X1, X2, X3, X4, X5, X6, X7, X8, Y1, Y2]\n",
       "Index: []"
      ]
     },
     "metadata": {},
     "output_type": "display_data"
    },
    {
     "data": {
      "text/html": [
       "<div>\n",
       "<style scoped>\n",
       "    .dataframe tbody tr th:only-of-type {\n",
       "        vertical-align: middle;\n",
       "    }\n",
       "\n",
       "    .dataframe tbody tr th {\n",
       "        vertical-align: top;\n",
       "    }\n",
       "\n",
       "    .dataframe thead th {\n",
       "        text-align: right;\n",
       "    }\n",
       "</style>\n",
       "<table border=\"1\" class=\"dataframe\">\n",
       "  <thead>\n",
       "    <tr style=\"text-align: right;\">\n",
       "      <th></th>\n",
       "      <th>X1</th>\n",
       "      <th>X2</th>\n",
       "      <th>X3</th>\n",
       "      <th>X4</th>\n",
       "      <th>X5</th>\n",
       "      <th>X6</th>\n",
       "      <th>X7</th>\n",
       "      <th>X8</th>\n",
       "      <th>Y1</th>\n",
       "      <th>Y2</th>\n",
       "    </tr>\n",
       "  </thead>\n",
       "  <tbody>\n",
       "  </tbody>\n",
       "</table>\n",
       "</div>"
      ],
      "text/plain": [
       "Empty DataFrame\n",
       "Columns: [X1, X2, X3, X4, X5, X6, X7, X8, Y1, Y2]\n",
       "Index: []"
      ]
     },
     "metadata": {},
     "output_type": "display_data"
    },
    {
     "data": {
      "text/html": [
       "<div>\n",
       "<style scoped>\n",
       "    .dataframe tbody tr th:only-of-type {\n",
       "        vertical-align: middle;\n",
       "    }\n",
       "\n",
       "    .dataframe tbody tr th {\n",
       "        vertical-align: top;\n",
       "    }\n",
       "\n",
       "    .dataframe thead th {\n",
       "        text-align: right;\n",
       "    }\n",
       "</style>\n",
       "<table border=\"1\" class=\"dataframe\">\n",
       "  <thead>\n",
       "    <tr style=\"text-align: right;\">\n",
       "      <th></th>\n",
       "      <th>X1</th>\n",
       "      <th>X2</th>\n",
       "      <th>X3</th>\n",
       "      <th>X4</th>\n",
       "      <th>X5</th>\n",
       "      <th>X6</th>\n",
       "      <th>X7</th>\n",
       "      <th>X8</th>\n",
       "      <th>Y1</th>\n",
       "      <th>Y2</th>\n",
       "    </tr>\n",
       "  </thead>\n",
       "  <tbody>\n",
       "  </tbody>\n",
       "</table>\n",
       "</div>"
      ],
      "text/plain": [
       "Empty DataFrame\n",
       "Columns: [X1, X2, X3, X4, X5, X6, X7, X8, Y1, Y2]\n",
       "Index: []"
      ]
     },
     "metadata": {},
     "output_type": "display_data"
    }
   ],
   "source": [
    "# Check for any nulls in the data\n",
    "for col in df.columns:\n",
    "    display(df[df[col].isnull()])"
   ]
  },
  {
   "cell_type": "markdown",
   "metadata": {},
   "source": [
    "### As a baseline, two linear regression models will be trained independently on each target"
   ]
  },
  {
   "cell_type": "code",
   "execution_count": 40,
   "metadata": {},
   "outputs": [],
   "source": [
    "seed = 22793"
   ]
  },
  {
   "cell_type": "code",
   "execution_count": 41,
   "metadata": {
    "scrolled": true
   },
   "outputs": [
    {
     "data": {
      "text/plain": [
       "GridSearchCV(estimator=Pipeline(steps=[('standardscaler', StandardScaler()),\n",
       "                                       ('sgdregressor',\n",
       "                                        SGDRegressor(max_iter=10000))]),\n",
       "             param_grid={'sgdregressor__alpha': array([0.   , 0.002, 0.004, 0.006, 0.008, 0.01 , 0.012, 0.014])},\n",
       "             scoring='neg_mean_squared_error')"
      ]
     },
     "execution_count": 41,
     "metadata": {},
     "output_type": "execute_result"
    }
   ],
   "source": [
    "train_cols = list(df.columns)[:-2]\n",
    "# train_cols = ['X4', 'X5', 'X6', 'X7']\n",
    "test_cols = list(df.columns)[-2:]\n",
    "X = df[train_cols]\n",
    "Y1 = df[test_cols[0]]\n",
    "Y2 = df[test_cols[1]]\n",
    "X_train, X_test, Y1_train, Y1_test, Y2_train, Y2_test = train_test_split(X, Y1, Y2, test_size=0.2, random_state=seed)\n",
    "\n",
    "kfolds = 5\n",
    "scaler = StandardScaler()\n",
    "scoring = 'neg_mean_squared_error'\n",
    "# data is already centered, do not need intercept term\n",
    "model_1 = make_pipeline(StandardScaler(), SGDRegressor(max_iter=10000))\n",
    "model_2 = make_pipeline(StandardScaler(), SGDRegressor(max_iter=10000))\n",
    "param_grid={'sgdregressor__alpha': np.arange(0.0, .015, .002)}\n",
    "grid_search_1 = GridSearchCV(model_1, param_grid, scoring=scoring)\n",
    "grid_search_2 = GridSearchCV(model_2, param_grid, scoring=scoring)\n",
    "\n",
    "grid_search_1.fit(X_train, Y1_train, )\n",
    "grid_search_2.fit(X_train, Y1_train, )"
   ]
  },
  {
   "cell_type": "code",
   "execution_count": 42,
   "metadata": {},
   "outputs": [
    {
     "name": "stdout",
     "output_type": "stream",
     "text": [
      "{'sgdregressor__alpha': 0.0}\n",
      "{'sgdregressor__alpha': 0.0}\n"
     ]
    }
   ],
   "source": [
    "grid_search_1.cv_results_\n",
    "print(grid_search_1.best_params_)\n",
    "print(grid_search_2.best_params_)"
   ]
  },
  {
   "cell_type": "code",
   "execution_count": 43,
   "metadata": {},
   "outputs": [
    {
     "data": {
      "text/plain": [
       "-9.33031087368259"
      ]
     },
     "execution_count": 43,
     "metadata": {},
     "output_type": "execute_result"
    }
   ],
   "source": [
    "total_mse = grid_search_1.best_score_ + grid_search_2.best_score_\n",
    "total_mse = total_mse / 2\n",
    "total_mse"
   ]
  },
  {
   "cell_type": "code",
   "execution_count": 44,
   "metadata": {},
   "outputs": [],
   "source": [
    "# Fit best model on entire training set and calculate test error\n",
    "model_1 = make_pipeline(StandardScaler(), SGDRegressor(alpha=0, max_iter=10000))\n",
    "model_2 = make_pipeline(StandardScaler(), SGDRegressor(alpha=0, max_iter=10000))\n",
    "model_1 = model_1.fit(X_train, Y1_train)\n",
    "model_2 = model_2.fit(X_train, Y2_train)\n"
   ]
  },
  {
   "cell_type": "code",
   "execution_count": 46,
   "metadata": {},
   "outputs": [],
   "source": [
    "model_1_mse = mean_squared_error(model_1.predict(X_test), Y1_test)\n",
    "model_2_mse = mean_squared_error(model_2.predict(X_test), Y2_test)\n",
    "total_test_mse = np.mean([model_1_mse, model_2_mse])\n",
    "\n",
    "model_1_mse = mean_squared_error(model_1.predict(X_train), Y1_train)\n",
    "model_2_mse = mean_squared_error(model_2.predict(X_train), Y2_train)\n",
    "total_train_mse = np.mean([model_1_mse, model_2_mse])"
   ]
  },
  {
   "cell_type": "code",
   "execution_count": 47,
   "metadata": {},
   "outputs": [
    {
     "name": "stdout",
     "output_type": "stream",
     "text": [
      "7.569671141625257\n",
      "9.947043429078988\n"
     ]
    }
   ],
   "source": [
    "print(total_test_mse)\n",
    "print(total_train_mse)"
   ]
  },
  {
   "cell_type": "markdown",
   "metadata": {},
   "source": [
    "##### Multitarget Ridge Regression"
   ]
  },
  {
   "cell_type": "code",
   "execution_count": 5,
   "metadata": {},
   "outputs": [],
   "source": [
    "from load_data import load_and_split_data\n",
    "data_slices = load_and_split_data(\"ENB2012_data.xlsx\")\n",
    "X_train = data_slices[0]\n",
    "X_test = data_slices[1]\n",
    "Y1_train = data_slices[2]\n",
    "Y1_test = data_slices[3]\n",
    "Y2_train = data_slices[4]\n",
    "Y2_test = data_slices[5]\n",
    "\n",
    "Y_train = pd.concat([Y1_train, Y2_train], axis=1) \n",
    "Y_test = pd.concat([Y1_test, Y2_test], axis=1)"
   ]
  },
  {
   "cell_type": "code",
   "execution_count": 13,
   "metadata": {},
   "outputs": [
    {
     "name": "stdout",
     "output_type": "stream",
     "text": [
      "-10.023311361779092\n"
     ]
    },
    {
     "data": {
      "text/plain": [
       "{'ridge__alpha': 0.09999999999999998}"
      ]
     },
     "execution_count": 13,
     "metadata": {},
     "output_type": "execute_result"
    }
   ],
   "source": [
    "kfolds = 5\n",
    "scaler = StandardScaler()\n",
    "scoring = 'neg_mean_squared_error'\n",
    "model_name = \"Ridge\".lower()\n",
    "# data is already centered, do not need intercept term\n",
    "pipeline = make_pipeline(StandardScaler(), Ridge())\n",
    "\n",
    "param_grid={\n",
    "            model_name+'__alpha': np.arange(0.01, .2, .005),\n",
    "            \n",
    "}\n",
    "grid_search = GridSearchCV(pipeline, param_grid, scoring=scoring, cv=kfolds)\n",
    "\n",
    "grid_search.fit(X_train, Y_train)\n",
    "print(grid_search.best_score_)\n",
    "grid_search.best_params_"
   ]
  },
  {
   "cell_type": "code",
   "execution_count": 14,
   "metadata": {},
   "outputs": [
    {
     "name": "stdout",
     "output_type": "stream",
     "text": [
      "9.790102537993132\n",
      "7.586827099116071\n"
     ]
    }
   ],
   "source": [
    "ridge_model = grid_search.best_estimator_\n",
    "\n",
    "ridge_train_mse = mean_squared_error(ridge_model.predict(X_train), Y_train)\n",
    "ridge_test_mse = mean_squared_error(ridge_model.predict(X_test), Y_test)\n",
    "print(ridge_train_mse)\n",
    "print(ridge_test_mse)"
   ]
  },
  {
   "cell_type": "markdown",
   "metadata": {},
   "source": [
    "#### Ridge dropped columns\n",
    "Remove correlated colums"
   ]
  },
  {
   "cell_type": "code",
   "execution_count": 34,
   "metadata": {},
   "outputs": [
    {
     "data": {
      "text/html": [
       "<div>\n",
       "<style scoped>\n",
       "    .dataframe tbody tr th:only-of-type {\n",
       "        vertical-align: middle;\n",
       "    }\n",
       "\n",
       "    .dataframe tbody tr th {\n",
       "        vertical-align: top;\n",
       "    }\n",
       "\n",
       "    .dataframe thead th {\n",
       "        text-align: right;\n",
       "    }\n",
       "</style>\n",
       "<table border=\"1\" class=\"dataframe\">\n",
       "  <thead>\n",
       "    <tr style=\"text-align: right;\">\n",
       "      <th></th>\n",
       "      <th>variables</th>\n",
       "      <th>VIF</th>\n",
       "    </tr>\n",
       "  </thead>\n",
       "  <tbody>\n",
       "    <tr>\n",
       "      <th>0</th>\n",
       "      <td>X2</td>\n",
       "      <td>240.467724</td>\n",
       "    </tr>\n",
       "    <tr>\n",
       "      <th>1</th>\n",
       "      <td>X4</td>\n",
       "      <td>150.855951</td>\n",
       "    </tr>\n",
       "    <tr>\n",
       "      <th>2</th>\n",
       "      <td>X5</td>\n",
       "      <td>19.114091</td>\n",
       "    </tr>\n",
       "    <tr>\n",
       "      <th>3</th>\n",
       "      <td>X7</td>\n",
       "      <td>4.285088</td>\n",
       "    </tr>\n",
       "    <tr>\n",
       "      <th>4</th>\n",
       "      <td>X8</td>\n",
       "      <td>4.486469</td>\n",
       "    </tr>\n",
       "  </tbody>\n",
       "</table>\n",
       "</div>"
      ],
      "text/plain": [
       "  variables         VIF\n",
       "0        X2  240.467724\n",
       "1        X4  150.855951\n",
       "2        X5   19.114091\n",
       "3        X7    4.285088\n",
       "4        X8    4.486469"
      ]
     },
     "metadata": {},
     "output_type": "display_data"
    }
   ],
   "source": [
    "drop_list = ['X1',  'X3', 'X6']\n",
    "display(calc_vif(df.drop(['Y1', 'Y2'] + drop_list, axis=1)))"
   ]
  },
  {
   "cell_type": "code",
   "execution_count": 35,
   "metadata": {},
   "outputs": [
    {
     "name": "stdout",
     "output_type": "stream",
     "text": [
      "-10.528678809249561\n"
     ]
    },
    {
     "data": {
      "text/plain": [
       "{'ridge__alpha': 0.4}"
      ]
     },
     "execution_count": 35,
     "metadata": {},
     "output_type": "execute_result"
    }
   ],
   "source": [
    "X_train_droped = X_train.drop(drop_list, axis=1)\n",
    "kfolds = 5\n",
    "scaler = StandardScaler()\n",
    "scoring = 'neg_mean_squared_error'\n",
    "model_name = \"Ridge\".lower()\n",
    "# data is already centered, do not need intercept term\n",
    "pipeline = make_pipeline(StandardScaler(), Ridge())\n",
    "\n",
    "param_grid={\n",
    "            model_name+'__alpha': np.arange(0.1, 1, .1),\n",
    "            \n",
    "}\n",
    "grid_search = GridSearchCV(pipeline, param_grid, scoring=scoring, cv=kfolds)\n",
    "\n",
    "grid_search.fit(X_train_droped, Y_train)\n",
    "print(grid_search.best_score_)\n",
    "grid_search.best_params_"
   ]
  },
  {
   "cell_type": "code",
   "execution_count": 36,
   "metadata": {},
   "outputs": [
    {
     "name": "stdout",
     "output_type": "stream",
     "text": [
      "10.339729029274592\n",
      "7.858945109313897\n"
     ]
    }
   ],
   "source": [
    "X_test_dropped = X_test.drop(drop_list, axis=1)\n",
    "ridge_model_dropped = grid_search.best_estimator_\n",
    "\n",
    "ridge_dropped_train_mse = mean_squared_error(ridge_model_dropped.predict(X_train_droped), Y_train)\n",
    "ridge_dropped_test_mse = mean_squared_error(ridge_model_dropped.predict(X_test_dropped), Y_test)\n",
    "print(ridge_dropped_train_mse)\n",
    "print(ridge_dropped_test_mse)"
   ]
  },
  {
   "cell_type": "code",
   "execution_count": null,
   "metadata": {},
   "outputs": [],
   "source": []
  }
 ],
 "metadata": {
  "kernelspec": {
   "display_name": "Python 3",
   "language": "python",
   "name": "python3"
  },
  "language_info": {
   "codemirror_mode": {
    "name": "ipython",
    "version": 3
   },
   "file_extension": ".py",
   "mimetype": "text/x-python",
   "name": "python",
   "nbconvert_exporter": "python",
   "pygments_lexer": "ipython3",
   "version": "3.8.3"
  }
 },
 "nbformat": 4,
 "nbformat_minor": 4
}
